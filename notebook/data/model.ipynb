{
 "cells": [
  {
   "cell_type": "code",
   "execution_count": 1,
   "id": "099c0945",
   "metadata": {
    "ExecuteTime": {
     "end_time": "2023-07-10T15:14:27.875150400Z",
     "start_time": "2023-07-10T15:14:27.435597300Z"
    }
   },
   "outputs": [],
   "source": [
    "# Basic Import\n",
    "import numpy as np\n",
    "import pandas as pd\n",
    "import matplotlib.pyplot as plt \n",
    "import seaborn as sns\n",
    "# Modelling\n",
    "from sklearn.metrics import mean_squared_error, r2_score\n",
    "from sklearn.neighbors import KNeighborsRegressor\n",
    "from sklearn.tree import DecisionTreeRegressor\n",
    "from sklearn.ensemble import RandomForestRegressor,AdaBoostRegressor\n",
    "from sklearn.svm import SVR\n",
    "from sklearn.linear_model import LinearRegression, Ridge,Lasso\n",
    "from sklearn.metrics import r2_score, mean_absolute_error, mean_squared_error\n",
    "from sklearn.model_selection import RandomizedSearchCV\n",
    "from catboost import CatBoostRegressor\n",
    "from xgboost import XGBRegressor\n",
    "import warnings"
   ]
  },
  {
   "cell_type": "code",
   "execution_count": 2,
   "id": "828b100b",
   "metadata": {
    "ExecuteTime": {
     "end_time": "2023-07-10T15:14:27.890806600Z",
     "start_time": "2023-07-10T15:14:27.875150400Z"
    }
   },
   "outputs": [],
   "source": [
    "df=pd.read_csv('StudentsPerformance.csv')"
   ]
  },
  {
   "cell_type": "code",
   "execution_count": 3,
   "id": "7d6b4c06",
   "metadata": {
    "ExecuteTime": {
     "end_time": "2023-07-10T15:14:27.922026800Z",
     "start_time": "2023-07-10T15:14:27.890806600Z"
    }
   },
   "outputs": [
    {
     "data": {
      "text/plain": "   gender race/ethnicity parental level of education         lunch  \\\n0  female        group B           bachelor's degree      standard   \n1  female        group C                some college      standard   \n2  female        group B             master's degree      standard   \n3    male        group A          associate's degree  free/reduced   \n4    male        group C                some college      standard   \n\n  test preparation course  math score  reading score  writing score  \n0                    none          72             72             74  \n1               completed          69             90             88  \n2                    none          90             95             93  \n3                    none          47             57             44  \n4                    none          76             78             75  ",
      "text/html": "<div>\n<style scoped>\n    .dataframe tbody tr th:only-of-type {\n        vertical-align: middle;\n    }\n\n    .dataframe tbody tr th {\n        vertical-align: top;\n    }\n\n    .dataframe thead th {\n        text-align: right;\n    }\n</style>\n<table border=\"1\" class=\"dataframe\">\n  <thead>\n    <tr style=\"text-align: right;\">\n      <th></th>\n      <th>gender</th>\n      <th>race/ethnicity</th>\n      <th>parental level of education</th>\n      <th>lunch</th>\n      <th>test preparation course</th>\n      <th>math score</th>\n      <th>reading score</th>\n      <th>writing score</th>\n    </tr>\n  </thead>\n  <tbody>\n    <tr>\n      <th>0</th>\n      <td>female</td>\n      <td>group B</td>\n      <td>bachelor's degree</td>\n      <td>standard</td>\n      <td>none</td>\n      <td>72</td>\n      <td>72</td>\n      <td>74</td>\n    </tr>\n    <tr>\n      <th>1</th>\n      <td>female</td>\n      <td>group C</td>\n      <td>some college</td>\n      <td>standard</td>\n      <td>completed</td>\n      <td>69</td>\n      <td>90</td>\n      <td>88</td>\n    </tr>\n    <tr>\n      <th>2</th>\n      <td>female</td>\n      <td>group B</td>\n      <td>master's degree</td>\n      <td>standard</td>\n      <td>none</td>\n      <td>90</td>\n      <td>95</td>\n      <td>93</td>\n    </tr>\n    <tr>\n      <th>3</th>\n      <td>male</td>\n      <td>group A</td>\n      <td>associate's degree</td>\n      <td>free/reduced</td>\n      <td>none</td>\n      <td>47</td>\n      <td>57</td>\n      <td>44</td>\n    </tr>\n    <tr>\n      <th>4</th>\n      <td>male</td>\n      <td>group C</td>\n      <td>some college</td>\n      <td>standard</td>\n      <td>none</td>\n      <td>76</td>\n      <td>78</td>\n      <td>75</td>\n    </tr>\n  </tbody>\n</table>\n</div>"
     },
     "execution_count": 3,
     "metadata": {},
     "output_type": "execute_result"
    }
   ],
   "source": [
    "df.head()"
   ]
  },
  {
   "cell_type": "code",
   "execution_count": 4,
   "id": "896d90ba",
   "metadata": {
    "ExecuteTime": {
     "end_time": "2023-07-10T15:14:27.969362800Z",
     "start_time": "2023-07-10T15:14:27.922026800Z"
    }
   },
   "outputs": [],
   "source": [
    "df['race_ethnicity']=df['race/ethnicity']\n",
    "df['parental_level_of_education']=df['parental level of education']\n",
    "df['test_preparation_course']= df['test preparation course']\n",
    "df['math_score']=df['math score']\n",
    "df['reading_score'] = df['reading score']\n",
    "df['writing_score'] = df['writing score']\n"
   ]
  },
  {
   "cell_type": "code",
   "execution_count": 5,
   "id": "f8633867",
   "metadata": {
    "ExecuteTime": {
     "end_time": "2023-07-10T15:14:28.032339600Z",
     "start_time": "2023-07-10T15:14:27.937681300Z"
    }
   },
   "outputs": [
    {
     "data": {
      "text/plain": "   gender         lunch race_ethnicity parental_level_of_education  \\\n0  female      standard        group B           bachelor's degree   \n1  female      standard        group C                some college   \n2  female      standard        group B             master's degree   \n3    male  free/reduced        group A          associate's degree   \n4    male      standard        group C                some college   \n\n  test_preparation_course  math_score  reading_score  writing_score  \n0                    none          72             72             74  \n1               completed          69             90             88  \n2                    none          90             95             93  \n3                    none          47             57             44  \n4                    none          76             78             75  ",
      "text/html": "<div>\n<style scoped>\n    .dataframe tbody tr th:only-of-type {\n        vertical-align: middle;\n    }\n\n    .dataframe tbody tr th {\n        vertical-align: top;\n    }\n\n    .dataframe thead th {\n        text-align: right;\n    }\n</style>\n<table border=\"1\" class=\"dataframe\">\n  <thead>\n    <tr style=\"text-align: right;\">\n      <th></th>\n      <th>gender</th>\n      <th>lunch</th>\n      <th>race_ethnicity</th>\n      <th>parental_level_of_education</th>\n      <th>test_preparation_course</th>\n      <th>math_score</th>\n      <th>reading_score</th>\n      <th>writing_score</th>\n    </tr>\n  </thead>\n  <tbody>\n    <tr>\n      <th>0</th>\n      <td>female</td>\n      <td>standard</td>\n      <td>group B</td>\n      <td>bachelor's degree</td>\n      <td>none</td>\n      <td>72</td>\n      <td>72</td>\n      <td>74</td>\n    </tr>\n    <tr>\n      <th>1</th>\n      <td>female</td>\n      <td>standard</td>\n      <td>group C</td>\n      <td>some college</td>\n      <td>completed</td>\n      <td>69</td>\n      <td>90</td>\n      <td>88</td>\n    </tr>\n    <tr>\n      <th>2</th>\n      <td>female</td>\n      <td>standard</td>\n      <td>group B</td>\n      <td>master's degree</td>\n      <td>none</td>\n      <td>90</td>\n      <td>95</td>\n      <td>93</td>\n    </tr>\n    <tr>\n      <th>3</th>\n      <td>male</td>\n      <td>free/reduced</td>\n      <td>group A</td>\n      <td>associate's degree</td>\n      <td>none</td>\n      <td>47</td>\n      <td>57</td>\n      <td>44</td>\n    </tr>\n    <tr>\n      <th>4</th>\n      <td>male</td>\n      <td>standard</td>\n      <td>group C</td>\n      <td>some college</td>\n      <td>none</td>\n      <td>76</td>\n      <td>78</td>\n      <td>75</td>\n    </tr>\n  </tbody>\n</table>\n</div>"
     },
     "execution_count": 5,
     "metadata": {},
     "output_type": "execute_result"
    }
   ],
   "source": [
    "df.drop(['race/ethnicity', 'test preparation course', 'parental level of education', 'math score', 'reading score', 'writing score'], axis=1, inplace=True)\n",
    "df.head()"
   ]
  },
  {
   "cell_type": "code",
   "execution_count": 6,
   "id": "f70d5326",
   "metadata": {
    "ExecuteTime": {
     "end_time": "2023-07-10T15:14:28.032339600Z",
     "start_time": "2023-07-10T15:14:27.969362800Z"
    }
   },
   "outputs": [
    {
     "data": {
      "text/plain": "   gender         lunch race_ethnicity parental_level_of_education  \\\n0  female      standard        group B           bachelor's degree   \n1  female      standard        group C                some college   \n2  female      standard        group B             master's degree   \n3    male  free/reduced        group A          associate's degree   \n4    male      standard        group C                some college   \n\n  test_preparation_course  reading_score  writing_score  \n0                    none             72             74  \n1               completed             90             88  \n2                    none             95             93  \n3                    none             57             44  \n4                    none             78             75  ",
      "text/html": "<div>\n<style scoped>\n    .dataframe tbody tr th:only-of-type {\n        vertical-align: middle;\n    }\n\n    .dataframe tbody tr th {\n        vertical-align: top;\n    }\n\n    .dataframe thead th {\n        text-align: right;\n    }\n</style>\n<table border=\"1\" class=\"dataframe\">\n  <thead>\n    <tr style=\"text-align: right;\">\n      <th></th>\n      <th>gender</th>\n      <th>lunch</th>\n      <th>race_ethnicity</th>\n      <th>parental_level_of_education</th>\n      <th>test_preparation_course</th>\n      <th>reading_score</th>\n      <th>writing_score</th>\n    </tr>\n  </thead>\n  <tbody>\n    <tr>\n      <th>0</th>\n      <td>female</td>\n      <td>standard</td>\n      <td>group B</td>\n      <td>bachelor's degree</td>\n      <td>none</td>\n      <td>72</td>\n      <td>74</td>\n    </tr>\n    <tr>\n      <th>1</th>\n      <td>female</td>\n      <td>standard</td>\n      <td>group C</td>\n      <td>some college</td>\n      <td>completed</td>\n      <td>90</td>\n      <td>88</td>\n    </tr>\n    <tr>\n      <th>2</th>\n      <td>female</td>\n      <td>standard</td>\n      <td>group B</td>\n      <td>master's degree</td>\n      <td>none</td>\n      <td>95</td>\n      <td>93</td>\n    </tr>\n    <tr>\n      <th>3</th>\n      <td>male</td>\n      <td>free/reduced</td>\n      <td>group A</td>\n      <td>associate's degree</td>\n      <td>none</td>\n      <td>57</td>\n      <td>44</td>\n    </tr>\n    <tr>\n      <th>4</th>\n      <td>male</td>\n      <td>standard</td>\n      <td>group C</td>\n      <td>some college</td>\n      <td>none</td>\n      <td>78</td>\n      <td>75</td>\n    </tr>\n  </tbody>\n</table>\n</div>"
     },
     "execution_count": 6,
     "metadata": {},
     "output_type": "execute_result"
    }
   ],
   "source": [
    "X=df.drop('math_score', axis=1)\n",
    "X.head()"
   ]
  },
  {
   "cell_type": "code",
   "execution_count": 7,
   "id": "2f5ccd68",
   "metadata": {
    "ExecuteTime": {
     "end_time": "2023-07-10T15:14:28.051473300Z",
     "start_time": "2023-07-10T15:14:27.969362800Z"
    }
   },
   "outputs": [
    {
     "name": "stdout",
     "output_type": "stream",
     "text": [
      "Categorien in 'gender' variable :   ['female' 'male']\n",
      "Categories in 'race/ethnicity' variable : ['group B' 'group C' 'group A' 'group D' 'group E']\n",
      "Categories in 'parental level of education' variable : [\"bachelor's degree\" 'some college' \"master's degree\" \"associate's degree\"\n",
      " 'high school' 'some high school']\n",
      "Categories in 'lunch' variable : ['standard' 'free/reduced']\n",
      "Categories in 'test preparation course' variable : ['none' 'completed']\n"
     ]
    }
   ],
   "source": [
    "print(\"Categorien in 'gender' variable :  \", end=\" \")\n",
    "print(df['gender'].unique())\n",
    "\n",
    "print(\"Categories in 'race/ethnicity' variable :\", end=\" \")\n",
    "print(df['race_ethnicity'].unique())\n",
    "\n",
    "print(\"Categories in 'parental level of education' variable :\", end=\" \")\n",
    "print(df['parental_level_of_education'].unique())\n",
    "\n",
    "print(\"Categories in 'lunch' variable :\", end=\" \")\n",
    "print(df['lunch'].unique())\n",
    "\n",
    "print(\"Categories in 'test preparation course' variable :\", end=\" \")\n",
    "print(df['test_preparation_course'].unique())"
   ]
  },
  {
   "cell_type": "code",
   "execution_count": 8,
   "id": "2715c742",
   "metadata": {
    "ExecuteTime": {
     "end_time": "2023-07-10T15:14:28.124306300Z",
     "start_time": "2023-07-10T15:14:27.984990600Z"
    }
   },
   "outputs": [
    {
     "data": {
      "text/plain": "0    72\n1    69\n2    90\n3    47\n4    76\nName: math_score, dtype: int64"
     },
     "execution_count": 8,
     "metadata": {},
     "output_type": "execute_result"
    }
   ],
   "source": [
    "y=df['math_score']\n",
    "y.head()"
   ]
  },
  {
   "cell_type": "code",
   "execution_count": 9,
   "id": "4f1ad9de",
   "metadata": {
    "ExecuteTime": {
     "end_time": "2023-07-10T15:14:28.124306300Z",
     "start_time": "2023-07-10T15:14:28.000614900Z"
    }
   },
   "outputs": [],
   "source": [
    "num_features = X.select_dtypes(exclude='object').columns\n",
    "cat_features = X.select_dtypes(include='object').columns\n",
    "\n",
    "\n",
    "from sklearn.preprocessing import OneHotEncoder, StandardScaler\n",
    "from sklearn.compose import ColumnTransformer\n",
    "\n",
    "numeric_transformer = StandardScaler()\n",
    "oh_transformer = OneHotEncoder()\n",
    "\n",
    "preprocessor = ColumnTransformer([('OneHotEncoder',oh_transformer, cat_features), ('StandardScaler', numeric_transformer, num_features)])\n"
   ]
  },
  {
   "cell_type": "code",
   "execution_count": 10,
   "id": "53540f12",
   "metadata": {
    "ExecuteTime": {
     "end_time": "2023-07-10T15:14:28.139941900Z",
     "start_time": "2023-07-10T15:14:28.032339600Z"
    }
   },
   "outputs": [],
   "source": [
    "X = preprocessor.fit_transform(X)"
   ]
  },
  {
   "cell_type": "code",
   "execution_count": 11,
   "id": "d6e29511",
   "metadata": {
    "ExecuteTime": {
     "end_time": "2023-07-10T15:14:28.251747100Z",
     "start_time": "2023-07-10T15:14:28.063981900Z"
    }
   },
   "outputs": [
    {
     "data": {
      "text/plain": "(1000, 19)"
     },
     "execution_count": 11,
     "metadata": {},
     "output_type": "execute_result"
    }
   ],
   "source": [
    "X.shape"
   ]
  },
  {
   "cell_type": "code",
   "execution_count": 12,
   "id": "1bd6f7a0",
   "metadata": {
    "ExecuteTime": {
     "end_time": "2023-07-10T15:14:28.312745800Z",
     "start_time": "2023-07-10T15:14:28.079621600Z"
    }
   },
   "outputs": [
    {
     "data": {
      "text/plain": "((800, 19), (200, 19), (800,), (200,))"
     },
     "execution_count": 12,
     "metadata": {},
     "output_type": "execute_result"
    }
   ],
   "source": [
    "from sklearn.model_selection import train_test_split\n",
    "\n",
    "X_train, X_test, y_train, y_test = train_test_split(X, y, test_size=0.2, random_state=42)\n",
    "\n",
    "X_train.shape, X_test.shape, y_train.shape, y_test.shape\n"
   ]
  },
  {
   "cell_type": "code",
   "execution_count": 13,
   "id": "f7b828ca",
   "metadata": {
    "ExecuteTime": {
     "end_time": "2023-07-10T15:14:28.312745800Z",
     "start_time": "2023-07-10T15:14:28.095245900Z"
    }
   },
   "outputs": [],
   "source": [
    "def evaluate_model(true, predicted) :\n",
    "    mae=mean_absolute_error(true, predicted)\n",
    "    mse=mean_squared_error(true, predicted)\n",
    "    rmse = np.sqrt(mean_squared_error(true, predicted))\n",
    "    r2=r2_score(true, predicted)\n",
    "    return mae, mse, r2"
   ]
  },
  {
   "cell_type": "code",
   "execution_count": 14,
   "id": "d4e04179",
   "metadata": {
    "ExecuteTime": {
     "end_time": "2023-07-10T15:14:30.696716200Z",
     "start_time": "2023-07-10T15:14:28.108794400Z"
    }
   },
   "outputs": [
    {
     "name": "stdout",
     "output_type": "stream",
     "text": [
      "Linear Regression\n",
      "Model performance for Training set\n",
      "- Root Mean Squared Error: 28.3349\n",
      "- Mean Absolute Error: 4.2667\n",
      "- R2 Score: 0.8743\n",
      "----------------------------------\n",
      "Model performance for Test set\n",
      "- Root Mean Squared Error: 29.0952\n",
      "- Mean Absolute Error: 4.2148\n",
      "- R2 Score: 0.8804\n",
      "===================================\n",
      "\n",
      "\n",
      "Lasso\n",
      "Model performance for Training set\n",
      "- Root Mean Squared Error: 43.4784\n",
      "- Mean Absolute Error: 5.2063\n",
      "- R2 Score: 0.8071\n",
      "----------------------------------\n",
      "Model performance for Test set\n",
      "- Root Mean Squared Error: 42.5064\n",
      "- Mean Absolute Error: 5.1579\n",
      "- R2 Score: 0.8253\n",
      "===================================\n",
      "\n",
      "\n",
      "Ridge\n",
      "Model performance for Training set\n",
      "- Root Mean Squared Error: 28.3378\n",
      "- Mean Absolute Error: 4.2650\n",
      "- R2 Score: 0.8743\n",
      "----------------------------------\n",
      "Model performance for Test set\n",
      "- Root Mean Squared Error: 29.0563\n",
      "- Mean Absolute Error: 4.2111\n",
      "- R2 Score: 0.8806\n",
      "===================================\n",
      "\n",
      "\n",
      "K-Neighbors Regressor\n",
      "Model performance for Training set\n",
      "- Root Mean Squared Error: 32.5521\n",
      "- Mean Absolute Error: 4.5120\n",
      "- R2 Score: 0.8556\n",
      "----------------------------------\n",
      "Model performance for Test set\n",
      "- Root Mean Squared Error: 52.6902\n",
      "- Mean Absolute Error: 5.6470\n",
      "- R2 Score: 0.7835\n",
      "===================================\n",
      "\n",
      "\n",
      "Decision Tree\n",
      "Model performance for Training set\n",
      "- Root Mean Squared Error: 0.0781\n",
      "- Mean Absolute Error: 0.0187\n",
      "- R2 Score: 0.9997\n",
      "----------------------------------\n",
      "Model performance for Test set\n",
      "- Root Mean Squared Error: 60.0300\n",
      "- Mean Absolute Error: 6.2000\n",
      "- R2 Score: 0.7533\n",
      "===================================\n",
      "\n",
      "\n",
      "Random Forest Regressor\n",
      "Model performance for Training set\n",
      "- Root Mean Squared Error: 5.1705\n",
      "- Mean Absolute Error: 1.8245\n",
      "- R2 Score: 0.9771\n",
      "----------------------------------\n",
      "Model performance for Test set\n",
      "- Root Mean Squared Error: 36.3131\n",
      "- Mean Absolute Error: 4.7165\n",
      "- R2 Score: 0.8508\n",
      "===================================\n",
      "\n",
      "\n",
      "XGBRegressor\n",
      "Model performance for Training set\n",
      "- Root Mean Squared Error: 0.8258\n",
      "- Mean Absolute Error: 0.6148\n",
      "- R2 Score: 0.9963\n",
      "----------------------------------\n",
      "Model performance for Test set\n",
      "- Root Mean Squared Error: 43.3592\n",
      "- Mean Absolute Error: 5.0884\n",
      "- R2 Score: 0.8218\n",
      "===================================\n",
      "\n",
      "\n",
      "CatBoosting Regressor\n",
      "Model performance for Training set\n",
      "- Root Mean Squared Error: 9.2578\n",
      "- Mean Absolute Error: 2.4054\n",
      "- R2 Score: 0.9589\n",
      "----------------------------------\n",
      "Model performance for Test set\n",
      "- Root Mean Squared Error: 36.1037\n",
      "- Mean Absolute Error: 4.6125\n",
      "- R2 Score: 0.8516\n",
      "===================================\n",
      "\n",
      "\n",
      "AdaBoost Regressor\n",
      "Model performance for Training set\n",
      "- Root Mean Squared Error: 34.3672\n",
      "- Mean Absolute Error: 4.7960\n",
      "- R2 Score: 0.8476\n",
      "----------------------------------\n",
      "Model performance for Test set\n",
      "- Root Mean Squared Error: 36.2660\n",
      "- Mean Absolute Error: 4.6815\n",
      "- R2 Score: 0.8510\n",
      "===================================\n",
      "\n",
      "\n"
     ]
    }
   ],
   "source": [
    "models = {\n",
    "    \"Linear Regression\": LinearRegression(),\n",
    "    \"Lasso\": Lasso(),\n",
    "    \"Ridge\": Ridge(),\n",
    "    \"K-Neighbors Regressor\": KNeighborsRegressor(),\n",
    "    \"Decision Tree\": DecisionTreeRegressor(),\n",
    "    \"Random Forest Regressor\": RandomForestRegressor(),\n",
    "    \"XGBRegressor\": XGBRegressor(), \n",
    "    \"CatBoosting Regressor\": CatBoostRegressor(verbose=False),\n",
    "    \"AdaBoost Regressor\": AdaBoostRegressor()\n",
    "}\n",
    "model_list = []\n",
    "r2_list =[]\n",
    "\n",
    "for i in range(len(list(models))):\n",
    "    model = list(models.values())[i]\n",
    "    model.fit(X_train, y_train) # Train model\n",
    "\n",
    "    # Make predictions\n",
    "    y_train_pred = model.predict(X_train)\n",
    "    y_test_pred = model.predict(X_test)\n",
    "    \n",
    "    # Evaluate Train and Test dataset\n",
    "    model_train_mae , model_train_rmse, model_train_r2 = evaluate_model(y_train, y_train_pred)\n",
    "\n",
    "    model_test_mae , model_test_rmse, model_test_r2 = evaluate_model(y_test, y_test_pred)\n",
    "\n",
    "    \n",
    "    print(list(models.keys())[i])\n",
    "    model_list.append(list(models.keys())[i])\n",
    "    \n",
    "    print('Model performance for Training set')\n",
    "    print(\"- Root Mean Squared Error: {:.4f}\".format(model_train_rmse))\n",
    "    print(\"- Mean Absolute Error: {:.4f}\".format(model_train_mae))\n",
    "    print(\"- R2 Score: {:.4f}\".format(model_train_r2))\n",
    "\n",
    "    print('----------------------------------')\n",
    "    \n",
    "    print('Model performance for Test set')\n",
    "    print(\"- Root Mean Squared Error: {:.4f}\".format(model_test_rmse))\n",
    "    print(\"- Mean Absolute Error: {:.4f}\".format(model_test_mae))\n",
    "    print(\"- R2 Score: {:.4f}\".format(model_test_r2))\n",
    "    r2_list.append(model_test_r2)\n",
    "    \n",
    "    print('='*35)\n",
    "    print('\\n')"
   ]
  },
  {
   "cell_type": "code",
   "execution_count": 15,
   "id": "61631fb0",
   "metadata": {
    "ExecuteTime": {
     "end_time": "2023-07-10T15:14:30.727948200Z",
     "start_time": "2023-07-10T15:14:30.696716200Z"
    }
   },
   "outputs": [
    {
     "data": {
      "text/plain": "                Model Name  R2_Score\n2                    Ridge  0.880593\n0        Linear Regression  0.880433\n7    CatBoosting Regressor  0.851632\n8       AdaBoost Regressor  0.850965\n5  Random Forest Regressor  0.850771\n1                    Lasso  0.825320\n6             XGBRegressor  0.821815\n3    K-Neighbors Regressor  0.783469\n4            Decision Tree  0.753307",
      "text/html": "<div>\n<style scoped>\n    .dataframe tbody tr th:only-of-type {\n        vertical-align: middle;\n    }\n\n    .dataframe tbody tr th {\n        vertical-align: top;\n    }\n\n    .dataframe thead th {\n        text-align: right;\n    }\n</style>\n<table border=\"1\" class=\"dataframe\">\n  <thead>\n    <tr style=\"text-align: right;\">\n      <th></th>\n      <th>Model Name</th>\n      <th>R2_Score</th>\n    </tr>\n  </thead>\n  <tbody>\n    <tr>\n      <th>2</th>\n      <td>Ridge</td>\n      <td>0.880593</td>\n    </tr>\n    <tr>\n      <th>0</th>\n      <td>Linear Regression</td>\n      <td>0.880433</td>\n    </tr>\n    <tr>\n      <th>7</th>\n      <td>CatBoosting Regressor</td>\n      <td>0.851632</td>\n    </tr>\n    <tr>\n      <th>8</th>\n      <td>AdaBoost Regressor</td>\n      <td>0.850965</td>\n    </tr>\n    <tr>\n      <th>5</th>\n      <td>Random Forest Regressor</td>\n      <td>0.850771</td>\n    </tr>\n    <tr>\n      <th>1</th>\n      <td>Lasso</td>\n      <td>0.825320</td>\n    </tr>\n    <tr>\n      <th>6</th>\n      <td>XGBRegressor</td>\n      <td>0.821815</td>\n    </tr>\n    <tr>\n      <th>3</th>\n      <td>K-Neighbors Regressor</td>\n      <td>0.783469</td>\n    </tr>\n    <tr>\n      <th>4</th>\n      <td>Decision Tree</td>\n      <td>0.753307</td>\n    </tr>\n  </tbody>\n</table>\n</div>"
     },
     "execution_count": 15,
     "metadata": {},
     "output_type": "execute_result"
    }
   ],
   "source": [
    "pd.DataFrame(list(zip(model_list, r2_list)), columns=['Model Name', 'R2_Score']).sort_values(by='R2_Score', ascending=False)"
   ]
  },
  {
   "cell_type": "code",
   "execution_count": 16,
   "id": "f8027160",
   "metadata": {
    "ExecuteTime": {
     "end_time": "2023-07-10T15:14:30.759612800Z",
     "start_time": "2023-07-10T15:14:30.712334200Z"
    }
   },
   "outputs": [
    {
     "name": "stdout",
     "output_type": "stream",
     "text": [
      "Accuracy of the model is 88.04\n"
     ]
    }
   ],
   "source": [
    "lin_model=LinearRegression(fit_intercept=True)\n",
    "lin_model=lin_model.fit(X_train, y_train)\n",
    "y_pred=lin_model.predict(X_test)\n",
    "score=r2_score(y_test, y_pred)*100\n",
    "\n",
    "print(\"Accuracy of the model is %.2f\" %score)"
   ]
  },
  {
   "cell_type": "code",
   "execution_count": 17,
   "id": "fd595ceb",
   "metadata": {
    "ExecuteTime": {
     "end_time": "2023-07-10T15:14:31.104674500Z",
     "start_time": "2023-07-10T15:14:30.743576800Z"
    }
   },
   "outputs": [
    {
     "data": {
      "text/plain": "Text(0, 0.5, 'Predicted')"
     },
     "execution_count": 17,
     "metadata": {},
     "output_type": "execute_result"
    },
    {
     "data": {
      "text/plain": "<Figure size 640x480 with 1 Axes>",
      "image/png": "[encoded data removed]"
     },
     "metadata": {},
     "output_type": "display_data"
    }
   ],
   "source": [
    "plt.scatter(y_test, y_pred)\n",
    "plt.xlabel('Actual')\n",
    "plt.ylabel(\"Predicted\")"
   ]
  },
  {
   "cell_type": "code",
   "execution_count": 18,
   "id": "d0a5e3b6",
   "metadata": {
    "ExecuteTime": {
     "end_time": "2023-07-10T15:14:31.245910200Z",
     "start_time": "2023-07-10T15:14:30.963621Z"
    }
   },
   "outputs": [
    {
     "data": {
      "text/plain": "<AxesSubplot:xlabel='math_score'>"
     },
     "execution_count": 18,
     "metadata": {},
     "output_type": "execute_result"
    },
    {
     "data": {
      "text/plain": "<Figure size 640x480 with 1 Axes>",
      "image/png": "[encoded data removed]"
     },
     "metadata": {},
     "output_type": "display_data"
    }
   ],
   "source": [
    "sns.regplot(x=y_test, y=y_pred, ci=None, color='red')"
   ]
  },
  {
   "cell_type": "code",
   "execution_count": 19,
   "id": "cf70dac1",
   "metadata": {
    "ExecuteTime": {
     "end_time": "2023-07-10T15:14:31.245910200Z",
     "start_time": "2023-07-10T15:14:31.183238600Z"
    }
   },
   "outputs": [
    {
     "data": {
      "text/plain": "     Actual Value  Predicted Value  difference\n521            91        76.387970   14.612030\n737            53        58.885970   -5.885970\n740            80        76.990265    3.009735\n660            74        76.851804   -2.851804\n411            84        87.627378   -3.627378\n..            ...              ...         ...\n408            52        43.409149    8.590851\n332            62        62.152214   -0.152214\n208            74        67.888395    6.111605\n613            65        67.022287   -2.022287\n78             61        62.345132   -1.345132\n\n[200 rows x 3 columns]",
      "text/html": "<div>\n<style scoped>\n    .dataframe tbody tr th:only-of-type {\n        vertical-align: middle;\n    }\n\n    .dataframe tbody tr th {\n        vertical-align: top;\n    }\n\n    .dataframe thead th {\n        text-align: right;\n    }\n</style>\n<table border=\"1\" class=\"dataframe\">\n  <thead>\n    <tr style=\"text-align: right;\">\n      <th></th>\n      <th>Actual Value</th>\n      <th>Predicted Value</th>\n      <th>difference</th>\n    </tr>\n  </thead>\n  <tbody>\n    <tr>\n      <th>521</th>\n      <td>91</td>\n      <td>76.387970</td>\n      <td>14.612030</td>\n    </tr>\n    <tr>\n      <th>737</th>\n      <td>53</td>\n      <td>58.885970</td>\n      <td>-5.885970</td>\n    </tr>\n    <tr>\n      <th>740</th>\n      <td>80</td>\n      <td>76.990265</td>\n      <td>3.009735</td>\n    </tr>\n    <tr>\n      <th>660</th>\n      <td>74</td>\n      <td>76.851804</td>\n      <td>-2.851804</td>\n    </tr>\n    <tr>\n      <th>411</th>\n      <td>84</td>\n      <td>87.627378</td>\n      <td>-3.627378</td>\n    </tr>\n    <tr>\n      <th>...</th>\n      <td>...</td>\n      <td>...</td>\n      <td>...</td>\n    </tr>\n    <tr>\n      <th>408</th>\n      <td>52</td>\n      <td>43.409149</td>\n      <td>8.590851</td>\n    </tr>\n    <tr>\n      <th>332</th>\n      <td>62</td>\n      <td>62.152214</td>\n      <td>-0.152214</td>\n    </tr>\n    <tr>\n      <th>208</th>\n      <td>74</td>\n      <td>67.888395</td>\n      <td>6.111605</td>\n    </tr>\n    <tr>\n      <th>613</th>\n      <td>65</td>\n      <td>67.022287</td>\n      <td>-2.022287</td>\n    </tr>\n    <tr>\n      <th>78</th>\n      <td>61</td>\n      <td>62.345132</td>\n      <td>-1.345132</td>\n    </tr>\n  </tbody>\n</table>\n<p>200 rows × 3 columns</p>\n</div>"
     },
     "execution_count": 19,
     "metadata": {},
     "output_type": "execute_result"
    }
   ],
   "source": [
    "pred_df=pd.DataFrame({'Actual Value': y_test, \"Predicted Value\" : y_pred, \"difference\" : y_test-y_pred})\n",
    "pred_df"
   ]
  }
 ],
 "metadata": {
  "kernelspec": {
   "display_name": "Python 3 (ipykernel)",
   "language": "python",
   "name": "python3"
  },
  "language_info": {
   "codemirror_mode": {
    "name": "ipython",
    "version": 3
   },
   "file_extension": ".py",
   "mimetype": "text/x-python",
   "name": "python",
   "nbconvert_exporter": "python",
   "pygments_lexer": "ipython3",
   "version": "3.9.13"
  }
 },
 "nbformat": 4,
 "nbformat_minor": 5
}
